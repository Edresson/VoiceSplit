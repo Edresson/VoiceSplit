{
 "cells": [
  {
   "cell_type": "markdown",
   "metadata": {},
   "source": [
    "This is a noteboook used to generate the speaker embeddings with the  GE2E model."
   ]
  },
  {
   "cell_type": "code",
   "execution_count": null,
   "metadata": {
    "scrolled": true
   },
   "outputs": [],
   "source": [
    "import sys \n",
    "sys.path.insert(0, \"../\")"
   ]
  },
  {
   "cell_type": "code",
   "execution_count": null,
   "metadata": {},
   "outputs": [],
   "source": [
    "from utils.audio_processor import WrapperAudioProcessor as AudioProcessor \n",
    "from utils.generic_utils import load_config\n",
    "import librosa\n",
    "import os\n",
    "import numpy as np\n",
    "import torch\n",
    "from glob import glob\n",
    "from tqdm import tqdm"
   ]
  },
  {
   "cell_type": "code",
   "execution_count": null,
   "metadata": {
    "scrolled": false
   },
   "outputs": [],
   "source": [
    "#Download encoder Checkpoint\n",
    "#!wget https://github.com/Edresson/GE2E-Speaker-Encoder/releases/download/checkpoints/checkpoint-voicefilter-seungwonpark.pt -O embedder.pt"
   ]
  },
  {
   "cell_type": "code",
   "execution_count": null,
   "metadata": {},
   "outputs": [],
   "source": [
    "# speaker_encoder parameters \n",
    "num_mels = 40\n",
    "n_fft = 512\n",
    "emb_dim = 256\n",
    "lstm_hidden = 768\n",
    "lstm_layers = 3\n",
    "window = 80\n",
    "stride = 40\n",
    "\n",
    "checkpoint_dir = \"embedder.pt\""
   ]
  },
  {
   "cell_type": "code",
   "execution_count": null,
   "metadata": {},
   "outputs": [],
   "source": [
    "import torch\n",
    "import torch.nn as nn\n",
    "\n",
    "class LinearNorm(nn.Module):\n",
    "    def __init__(self, lstm_hidden, emb_dim):\n",
    "        super(LinearNorm, self).__init__()\n",
    "        self.linear_layer = nn.Linear(lstm_hidden, emb_dim)\n",
    "\n",
    "    def forward(self, x):\n",
    "        return self.linear_layer(x)\n",
    "\n",
    "\n",
    "class SpeakerEncoder(nn.Module):\n",
    "    def __init__(self, num_mels, lstm_layers, lstm_hidden, window, stride):\n",
    "        super(SpeakerEncoder, self).__init__()\n",
    "        self.lstm = nn.LSTM(num_mels, lstm_hidden,\n",
    "                            num_layers=lstm_layers,\n",
    "                            batch_first=True)\n",
    "        self.proj = LinearNorm(lstm_hidden, emb_dim)\n",
    "        self.num_mels = num_mels\n",
    "        self.lstm_layers = lstm_layers\n",
    "        self.lstm_hidden = lstm_hidden\n",
    "        self.window = window\n",
    "        self.stride = stride\n",
    "\n",
    "    def forward(self, mel):\n",
    "        # (num_mels, T)\n",
    "        mels = mel.unfold(1, self.window, self.stride) # (num_mels, T', window)\n",
    "        mels = mels.permute(1, 2, 0) # (T', window, num_mels)\n",
    "        x, _ = self.lstm(mels) # (T', window, lstm_hidden)\n",
    "        x = x[:, -1, :] # (T', lstm_hidden), use last frame only\n",
    "        x = self.proj(x) # (T', emb_dim)\n",
    "        x = x / torch.norm(x, p=2, dim=1, keepdim=True) # (T', emb_dim)\n",
    "        x = x.sum(0) / x.size(0) # (emb_dim), average pooling over time frames\n",
    "        return x\n"
   ]
  },
  {
   "cell_type": "code",
   "execution_count": null,
   "metadata": {},
   "outputs": [],
   "source": [
    "embedder = SpeakerEncoder(num_mels, lstm_layers, lstm_hidden, window, stride).cuda()\n",
    "chkpt_embed = torch.load(checkpoint_dir)\n",
    "embedder.load_state_dict(chkpt_embed)\n",
    "embedder.eval()"
   ]
  },
  {
   "cell_type": "code",
   "execution_count": null,
   "metadata": {},
   "outputs": [],
   "source": [
    "# Set constants\n",
    "DATA_ROOT_PATH = '../../../LibriSpeech/voicefilter_bugfix_data/'\n",
    "TRAIN_DATA = os.path.join(DATA_ROOT_PATH, 'train')\n",
    "TEST_DATA = os.path.join(DATA_ROOT_PATH, 'test')\n",
    "glob_re_wav_emb = '*-ref_emb.wav'\n",
    "glob_re_emb = '*-emb.pt'"
   ]
  },
  {
   "cell_type": "code",
   "execution_count": null,
   "metadata": {},
   "outputs": [],
   "source": [
    "# load ap compativel with speaker encoder\n",
    "config = {\"backend\":\"voicefilter\", \"mel_spec\": False,  \"audio_len\": 3, \n",
    "          \"voicefilter\":{\"n_fft\": 1200,\"num_mels\":40,\"num_freq\": 601,\"sample_rate\": 16000,\"hop_length\": 160,\n",
    "                         \"win_length\": 400,\"min_level_db\": -100.0, \"ref_level_db\": 20.0, \"preemphasis\": 0.97,\n",
    "                         \"power\": 1.5, \"griffin_lim_iters\": 60}}\n",
    "ap = AudioProcessor(config)"
   ]
  },
  {
   "cell_type": "code",
   "execution_count": null,
   "metadata": {},
   "outputs": [],
   "source": [
    "#os.listdir(TEST_DATA)"
   ]
  },
  {
   "cell_type": "code",
   "execution_count": null,
   "metadata": {},
   "outputs": [],
   "source": [
    "#Preprocess dataset\n",
    "train_files = sorted(glob(os.path.join(TRAIN_DATA, glob_re_wav_emb)))\n",
    "test_files = sorted(glob(os.path.join(TEST_DATA, glob_re_wav_emb)))\n",
    "\n",
    "if len(train_files) == 0 or len(test_files):\n",
    "    print(\"check train and test path files not in directory\")\n",
    "files  = train_files+test_files\n",
    "\n",
    "for i in tqdm(range(len(files))):\n",
    "    try:\n",
    "        wave_file_path = files[i]\n",
    "        wav_file_name = os.path.basename(wave_file_path)\n",
    "        # Extract Embedding\n",
    "        emb_wav, _ = librosa.load(wave_file_path, sr=16000)\n",
    "        mel = torch.from_numpy(ap.get_mel(emb_wav)).cuda()\n",
    "        #print(mel.shape)\n",
    "        file_embedding = embedder(mel).cpu().detach().numpy()\n",
    "    except:\n",
    "        # if is not possible extract embedding because wav lenght is very small\n",
    "        file_embedding = np.array([0]) # its make a error in training\n",
    "        print(\"Embedding reference is very sort\")\n",
    "    output_name = wave_file_path.replace(glob_re_wav_emb.replace('*',''),'')+glob_re_emb.replace('*','')\n",
    "    torch.save(torch.from_numpy(file_embedding.reshape(-1)), output_name)"
   ]
  },
  {
   "cell_type": "code",
   "execution_count": null,
   "metadata": {},
   "outputs": [],
   "source": []
  }
 ],
 "metadata": {
  "kernelspec": {
   "display_name": "Python 3",
   "language": "python",
   "name": "python3"
  },
  "language_info": {
   "codemirror_mode": {
    "name": "ipython",
    "version": 3
   },
   "file_extension": ".py",
   "mimetype": "text/x-python",
   "name": "python",
   "nbconvert_exporter": "python",
   "pygments_lexer": "ipython3",
   "version": "3.6.10"
  }
 },
 "nbformat": 4,
 "nbformat_minor": 4
}
